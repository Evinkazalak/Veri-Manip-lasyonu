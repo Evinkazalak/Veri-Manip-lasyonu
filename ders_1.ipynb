{
 "cells": [
  {
   "cell_type": "markdown",
   "id": "a8487e4f",
   "metadata": {},
   "source": [
    "# DERS 1   STRİNG  MANÜPÜLASYONU"
   ]
  },
  {
   "cell_type": "code",
   "execution_count": 2,
   "id": "63d37c1a",
   "metadata": {},
   "outputs": [],
   "source": [
    "## DEĞİŞKENLER"
   ]
  },
  {
   "cell_type": "code",
   "execution_count": 3,
   "id": "84b6080d",
   "metadata": {},
   "outputs": [],
   "source": [
    "x=5"
   ]
  },
  {
   "cell_type": "code",
   "execution_count": 4,
   "id": "9c3c1d50",
   "metadata": {},
   "outputs": [],
   "source": [
    "y=45"
   ]
  },
  {
   "cell_type": "code",
   "execution_count": 5,
   "id": "c2f1bf33",
   "metadata": {},
   "outputs": [
    {
     "data": {
      "text/plain": [
       "225"
      ]
     },
     "execution_count": 5,
     "metadata": {},
     "output_type": "execute_result"
    }
   ],
   "source": [
    "x*y"
   ]
  },
  {
   "cell_type": "code",
   "execution_count": 6,
   "id": "72a6eeb3",
   "metadata": {},
   "outputs": [
    {
     "data": {
      "text/plain": [
       "50"
      ]
     },
     "execution_count": 6,
     "metadata": {},
     "output_type": "execute_result"
    }
   ],
   "source": [
    "x+y"
   ]
  },
  {
   "cell_type": "code",
   "execution_count": 7,
   "id": "e9bb988f",
   "metadata": {},
   "outputs": [
    {
     "data": {
      "text/plain": [
       "False"
      ]
     },
     "execution_count": 7,
     "metadata": {},
     "output_type": "execute_result"
    }
   ],
   "source": [
    "x==y"
   ]
  },
  {
   "cell_type": "code",
   "execution_count": 8,
   "id": "059be752",
   "metadata": {},
   "outputs": [],
   "source": [
    "x=!y"
   ]
  },
  {
   "cell_type": "code",
   "execution_count": 10,
   "id": "a04a6eeb",
   "metadata": {},
   "outputs": [],
   "source": [
    "x=y"
   ]
  },
  {
   "cell_type": "code",
   "execution_count": 11,
   "id": "1f9671c8",
   "metadata": {},
   "outputs": [
    {
     "data": {
      "text/plain": [
       "45"
      ]
     },
     "execution_count": 11,
     "metadata": {},
     "output_type": "execute_result"
    }
   ],
   "source": [
    "x"
   ]
  },
  {
   "cell_type": "code",
   "execution_count": 12,
   "id": "c70f9534",
   "metadata": {},
   "outputs": [
    {
     "data": {
      "text/plain": [
       "45"
      ]
     },
     "execution_count": 12,
     "metadata": {},
     "output_type": "execute_result"
    }
   ],
   "source": [
    "y"
   ]
  },
  {
   "cell_type": "markdown",
   "id": "a799d06a",
   "metadata": {},
   "source": [
    "burada kodlar sıra sıra çalıştırılır . hangi hücreyi çalıştırırsan eğer o değeri aklında tutar."
   ]
  },
  {
   "cell_type": "code",
   "execution_count": 14,
   "id": "4f98717b",
   "metadata": {},
   "outputs": [],
   "source": [
    "gek=23\n",
    "sek=24"
   ]
  },
  {
   "cell_type": "code",
   "execution_count": 15,
   "id": "80e99b79",
   "metadata": {},
   "outputs": [
    {
     "data": {
      "text/plain": [
       "24"
      ]
     },
     "execution_count": 15,
     "metadata": {},
     "output_type": "execute_result"
    }
   ],
   "source": [
    "sek"
   ]
  },
  {
   "cell_type": "code",
   "execution_count": 16,
   "id": "5dd16bb6",
   "metadata": {},
   "outputs": [
    {
     "data": {
      "text/plain": [
       "47"
      ]
     },
     "execution_count": 16,
     "metadata": {},
     "output_type": "execute_result"
    }
   ],
   "source": [
    "sek+gek"
   ]
  },
  {
   "cell_type": "code",
   "execution_count": 17,
   "id": "ad3e1286",
   "metadata": {},
   "outputs": [
    {
     "data": {
      "text/plain": [
       "int"
      ]
     },
     "execution_count": 17,
     "metadata": {},
     "output_type": "execute_result"
    }
   ],
   "source": [
    "type(sek)"
   ]
  },
  {
   "cell_type": "code",
   "execution_count": 18,
   "id": "78316950",
   "metadata": {},
   "outputs": [],
   "source": [
    "evın=\"kazalak\""
   ]
  },
  {
   "cell_type": "code",
   "execution_count": 19,
   "id": "5dff1311",
   "metadata": {},
   "outputs": [
    {
     "data": {
      "text/plain": [
       "str"
      ]
     },
     "execution_count": 19,
     "metadata": {},
     "output_type": "execute_result"
    }
   ],
   "source": [
    "type(evın)"
   ]
  },
  {
   "cell_type": "code",
   "execution_count": 26,
   "id": "d4545e7c",
   "metadata": {},
   "outputs": [
    {
     "data": {
      "text/plain": [
       "1"
      ]
     },
     "execution_count": 26,
     "metadata": {},
     "output_type": "execute_result"
    }
   ],
   "source": [
    "evın.count(\"kazalak\")"
   ]
  },
  {
   "cell_type": "code",
   "execution_count": 22,
   "id": "1feea663",
   "metadata": {},
   "outputs": [
    {
     "data": {
      "text/plain": [
       "'kazalak'"
      ]
     },
     "execution_count": 22,
     "metadata": {},
     "output_type": "execute_result"
    }
   ],
   "source": [
    "evın.lower()"
   ]
  },
  {
   "cell_type": "code",
   "execution_count": 28,
   "id": "d0023534",
   "metadata": {},
   "outputs": [
    {
     "data": {
      "text/plain": [
       "'ekazalakvkazalakikazalakn'"
      ]
     },
     "execution_count": 28,
     "metadata": {},
     "output_type": "execute_result"
    }
   ],
   "source": [
    "evın.join(\"evin\")"
   ]
  },
  {
   "cell_type": "code",
   "execution_count": 29,
   "id": "10076ae8",
   "metadata": {},
   "outputs": [
    {
     "data": {
      "text/plain": [
       "-1"
      ]
     },
     "execution_count": 29,
     "metadata": {},
     "output_type": "execute_result"
    }
   ],
   "source": [
    "evın.find('e')"
   ]
  },
  {
   "cell_type": "code",
   "execution_count": 30,
   "id": "153fc465",
   "metadata": {},
   "outputs": [
    {
     "data": {
      "text/plain": [
       "-1"
      ]
     },
     "execution_count": 30,
     "metadata": {},
     "output_type": "execute_result"
    }
   ],
   "source": [
    "evın.find(\"n\")"
   ]
  },
  {
   "cell_type": "code",
   "execution_count": 31,
   "id": "88ce2194",
   "metadata": {},
   "outputs": [
    {
     "data": {
      "text/plain": [
       "['kazalak']"
      ]
     },
     "execution_count": 31,
     "metadata": {},
     "output_type": "execute_result"
    }
   ],
   "source": [
    "evın.split()"
   ]
  },
  {
   "cell_type": "code",
   "execution_count": 32,
   "id": "f5a1b11c",
   "metadata": {},
   "outputs": [
    {
     "name": "stdout",
     "output_type": "stream",
     "text": [
      "Lütfen yaşınızı giriniz :23\n"
     ]
    }
   ],
   "source": [
    "yasıogren=input('Lütfen yaşınızı giriniz :')"
   ]
  },
  {
   "cell_type": "code",
   "execution_count": 34,
   "id": "4ae78f4a",
   "metadata": {},
   "outputs": [
    {
     "data": {
      "text/plain": [
       "'23'"
      ]
     },
     "execution_count": 34,
     "metadata": {},
     "output_type": "execute_result"
    }
   ],
   "source": [
    "yasıogren"
   ]
  },
  {
   "cell_type": "code",
   "execution_count": 35,
   "id": "31c4c303",
   "metadata": {},
   "outputs": [
    {
     "data": {
      "text/plain": [
       "str"
      ]
     },
     "execution_count": 35,
     "metadata": {},
     "output_type": "execute_result"
    }
   ],
   "source": [
    "type(yasıogren)"
   ]
  },
  {
   "cell_type": "code",
   "execution_count": 38,
   "id": "34518d56",
   "metadata": {},
   "outputs": [],
   "source": [
    "benımadım=\"Evin Kazalak\""
   ]
  },
  {
   "cell_type": "code",
   "execution_count": 39,
   "id": "5ccd35aa",
   "metadata": {},
   "outputs": [
    {
     "data": {
      "text/plain": [
       "['Evin', 'Kazalak']"
      ]
     },
     "execution_count": 39,
     "metadata": {},
     "output_type": "execute_result"
    }
   ],
   "source": [
    "benımadım.split()"
   ]
  },
  {
   "cell_type": "markdown",
   "id": "dfb10f44",
   "metadata": {},
   "source": [
    "Normalde sen bir değişkene birden fazla değer atayamassın  ama pythonda öyle bir kural yok ben bir int birde string yapabilirim ya da float neticede her türlü benim son verdiğim değeri tutacak."
   ]
  },
  {
   "cell_type": "code",
   "execution_count": 40,
   "id": "a82ee39b",
   "metadata": {},
   "outputs": [
    {
     "data": {
      "text/plain": [
       "'Evin KazalakEvin KazalakEvin KazalakEvin KazalakEvin Kazalak'"
      ]
     },
     "execution_count": 40,
     "metadata": {},
     "output_type": "execute_result"
    }
   ],
   "source": [
    "benımadım*5"
   ]
  },
  {
   "cell_type": "code",
   "execution_count": 41,
   "id": "0717ac83",
   "metadata": {},
   "outputs": [
    {
     "name": "stdout",
     "output_type": "stream",
     "text": [
      "Lütfen yaşınızı giriniz :25\n"
     ]
    }
   ],
   "source": [
    "yasıınttle=input(\"Lütfen yaşınızı giriniz :\")"
   ]
  },
  {
   "cell_type": "code",
   "execution_count": 42,
   "id": "bcf70f4b",
   "metadata": {},
   "outputs": [
    {
     "data": {
      "text/plain": [
       "'25'"
      ]
     },
     "execution_count": 42,
     "metadata": {},
     "output_type": "execute_result"
    }
   ],
   "source": [
    "yasıınttle"
   ]
  },
  {
   "cell_type": "code",
   "execution_count": 43,
   "id": "a75598b7",
   "metadata": {},
   "outputs": [
    {
     "data": {
      "text/plain": [
       "str"
      ]
     },
     "execution_count": 43,
     "metadata": {},
     "output_type": "execute_result"
    }
   ],
   "source": [
    "type(yasıınttle)"
   ]
  },
  {
   "cell_type": "code",
   "execution_count": 44,
   "id": "56a4d40c",
   "metadata": {},
   "outputs": [],
   "source": [
    "yasıınttle=int(yasıınttle)"
   ]
  },
  {
   "cell_type": "code",
   "execution_count": 45,
   "id": "ec209ecb",
   "metadata": {},
   "outputs": [
    {
     "data": {
      "text/plain": [
       "int"
      ]
     },
     "execution_count": 45,
     "metadata": {},
     "output_type": "execute_result"
    }
   ],
   "source": [
    "type(yasıınttle)"
   ]
  },
  {
   "cell_type": "code",
   "execution_count": 46,
   "id": "9fefdea3",
   "metadata": {},
   "outputs": [
    {
     "data": {
      "text/plain": [
       "12"
      ]
     },
     "execution_count": 46,
     "metadata": {},
     "output_type": "execute_result"
    }
   ],
   "source": [
    "len(benımadım)"
   ]
  },
  {
   "cell_type": "markdown",
   "id": "45e3cf5f",
   "metadata": {},
   "source": [
    "Birden fazla satır ile çalışmak ve onları alt alta yazmak istersem eğer, '\\' işareti ile bunu yapabilirim"
   ]
  },
  {
   "cell_type": "code",
   "execution_count": 50,
   "id": "3b9ebbb2",
   "metadata": {},
   "outputs": [
    {
     "name": "stdout",
     "output_type": "stream",
     "text": [
      "Benim\n",
      "adım\n",
      "Evin\n",
      "Kazalak\n"
     ]
    }
   ],
   "source": [
    "print(\"Benim\\nadım\\nEvin\\nKazalak\")"
   ]
  },
  {
   "cell_type": "markdown",
   "id": "7cf273d0",
   "metadata": {},
   "source": [
    "Sciling işlemi Kesmek anlamına gelir."
   ]
  },
  {
   "cell_type": "code",
   "execution_count": 52,
   "id": "3b00830e",
   "metadata": {},
   "outputs": [
    {
     "data": {
      "text/plain": [
       "'E'"
      ]
     },
     "execution_count": 52,
     "metadata": {},
     "output_type": "execute_result"
    }
   ],
   "source": [
    "benımadım[0]"
   ]
  },
  {
   "cell_type": "code",
   "execution_count": 56,
   "id": "8abec4f7",
   "metadata": {},
   "outputs": [
    {
     "data": {
      "text/plain": [
       "'in Kazalak'"
      ]
     },
     "execution_count": 56,
     "metadata": {},
     "output_type": "execute_result"
    }
   ],
   "source": [
    "benımadım[2:]  "
   ]
  },
  {
   "cell_type": "code",
   "execution_count": 54,
   "id": "0454971e",
   "metadata": {},
   "outputs": [
    {
     "data": {
      "text/plain": [
       "'Ev'"
      ]
     },
     "execution_count": 54,
     "metadata": {},
     "output_type": "execute_result"
    }
   ],
   "source": [
    "benımadım[:2]"
   ]
  },
  {
   "cell_type": "code",
   "execution_count": 57,
   "id": "e2e469e8",
   "metadata": {},
   "outputs": [
    {
     "data": {
      "text/plain": [
       "'in'"
      ]
     },
     "execution_count": 57,
     "metadata": {},
     "output_type": "execute_result"
    }
   ],
   "source": [
    "benımadım[2:4]"
   ]
  },
  {
   "cell_type": "code",
   "execution_count": 58,
   "id": "a1562031",
   "metadata": {},
   "outputs": [
    {
     "data": {
      "text/plain": [
       "'Evin Kaz'"
      ]
     },
     "execution_count": 58,
     "metadata": {},
     "output_type": "execute_result"
    }
   ],
   "source": [
    "benımadım[0:8]"
   ]
  },
  {
   "cell_type": "markdown",
   "id": "63d04fd3",
   "metadata": {},
   "source": [
    "atmalamalı şekilde yazdırabilirsin"
   ]
  },
  {
   "cell_type": "code",
   "execution_count": 59,
   "id": "e71c5552",
   "metadata": {},
   "outputs": [
    {
     "data": {
      "text/plain": [
       "'Ei aaa'"
      ]
     },
     "execution_count": 59,
     "metadata": {},
     "output_type": "execute_result"
    }
   ],
   "source": [
    "benımadım[::2]"
   ]
  },
  {
   "cell_type": "markdown",
   "id": "26f5e602",
   "metadata": {},
   "source": [
    "verilen stringi tersine çevirme işlemi"
   ]
  },
  {
   "cell_type": "code",
   "execution_count": 61,
   "id": "e4a0a632",
   "metadata": {},
   "outputs": [
    {
     "data": {
      "text/plain": [
       "'kalazaK nivE'"
      ]
     },
     "execution_count": 61,
     "metadata": {},
     "output_type": "execute_result"
    }
   ],
   "source": [
    "benımadım[::-1]"
   ]
  },
  {
   "cell_type": "code",
   "execution_count": null,
   "id": "273efded",
   "metadata": {},
   "outputs": [],
   "source": []
  }
 ],
 "metadata": {
  "kernelspec": {
   "display_name": "Python 3 (ipykernel)",
   "language": "python",
   "name": "python3"
  },
  "language_info": {
   "codemirror_mode": {
    "name": "ipython",
    "version": 3
   },
   "file_extension": ".py",
   "mimetype": "text/x-python",
   "name": "python",
   "nbconvert_exporter": "python",
   "pygments_lexer": "ipython3",
   "version": "3.9.7"
  }
 },
 "nbformat": 4,
 "nbformat_minor": 5
}
